{
 "cells": [
  {
   "cell_type": "code",
   "execution_count": 5,
   "id": "f8978607",
   "metadata": {},
   "outputs": [],
   "source": [
    "import os\n",
    "import pandas as pd\n",
    "from datetime import datetime\n"
   ]
  },
  {
   "cell_type": "code",
   "execution_count": 6,
   "id": "2b3f4004",
   "metadata": {},
   "outputs": [
    {
     "name": "stdout",
     "output_type": "stream",
     "text": [
      "Cheap items written: Data2.0/Cheap/Moxfield-Blue_2025-06-10.csv\n",
      "Expensive items written: Data2.0/Expensive/Moxfield-Blue_2025-06-10.csv\n",
      "Cheap items written: Data2.0/Cheap/Moxfield-Black_2025-06-10.csv\n",
      "Expensive items written: Data2.0/Expensive/Moxfield-Black_2025-06-10.csv\n",
      "Cheap items written: Data2.0/Cheap/Moxfield-White_2025-06-10.csv\n",
      "Expensive items written: Data2.0/Expensive/Moxfield-White_2025-06-10.csv\n"
     ]
    }
   ],
   "source": [
    "# Set paths\n",
    "input_folder = 'Data1.0'\n",
    "cheap_folder = os.path.join('Data2.0', 'Cheap')\n",
    "expensive_folder = os.path.join('Data2.0', 'Expensive')\n",
    "today_str = datetime.today().strftime('%Y-%m-%d')\n",
    "\n",
    "# Create output directories if they don't exist\n",
    "os.makedirs(cheap_folder, exist_ok=True)\n",
    "os.makedirs(expensive_folder, exist_ok=True)\n",
    "\n",
    "# Loop through each CSV file in the input folder\n",
    "for filename in os.listdir(input_folder):\n",
    "    if filename.lower().endswith('.csv'):\n",
    "        input_path = os.path.join(input_folder, filename)\n",
    "        try:\n",
    "            df = pd.read_csv(input_path)\n",
    "\n",
    "            # Ensure 'Purchase price' exists\n",
    "            if 'Purchase price' in df.columns:\n",
    "                # Convert to numeric, handle errors\n",
    "                df['Purchase price'] = pd.to_numeric(df['Purchase price'], errors='coerce')\n",
    "\n",
    "                # Separate cheap and expensive rows\n",
    "                cheap_df = df[df['Purchase price'] < 2].copy()\n",
    "                expensive_df = df[df['Purchase price'] >= 2].copy()\n",
    "\n",
    "                # Function to enforce 'Language' column = 'en'\n",
    "                def set_language(df_subset):\n",
    "                    if 'Language' not in df_subset.columns:\n",
    "                        df_subset['Language'] = 'en'\n",
    "                    else:\n",
    "                        df_subset['Language'] = df_subset['Language'].apply(lambda x: 'en' if str(x).strip().lower() != 'en' else x)\n",
    "                    return df_subset\n",
    "\n",
    "                # Apply language fix\n",
    "                cheap_df = set_language(cheap_df)\n",
    "                expensive_df = set_language(expensive_df)\n",
    "\n",
    "                # Prepare filenames\n",
    "                base_name = os.path.splitext(filename)[0]\n",
    "                cheap_file = os.path.join(cheap_folder, f\"{base_name}_{today_str}.csv\")\n",
    "                expensive_file = os.path.join(expensive_folder, f\"{base_name}_{today_str}.csv\")\n",
    "\n",
    "                # Write CSVs if rows exist\n",
    "                if not cheap_df.empty:\n",
    "                    cheap_df.to_csv(cheap_file, index=False)\n",
    "                    print(f\"Cheap items written: {cheap_file}\")\n",
    "                if not expensive_df.empty:\n",
    "                    expensive_df.to_csv(expensive_file, index=False)\n",
    "                    print(f\"Expensive items written: {expensive_file}\")\n",
    "\n",
    "            else:\n",
    "                print(f\"'Purchase price' column missing in: {filename}\")\n",
    "\n",
    "        except Exception as e:\n",
    "            print(f\"Error processing {filename}: {e}\")"
   ]
  },
  {
   "cell_type": "code",
   "execution_count": null,
   "id": "86d9b01e",
   "metadata": {},
   "outputs": [],
   "source": []
  }
 ],
 "metadata": {
  "kernelspec": {
   "display_name": "Python 3",
   "language": "python",
   "name": "python3"
  },
  "language_info": {
   "codemirror_mode": {
    "name": "ipython",
    "version": 3
   },
   "file_extension": ".py",
   "mimetype": "text/x-python",
   "name": "python",
   "nbconvert_exporter": "python",
   "pygments_lexer": "ipython3",
   "version": "3.11.5"
  }
 },
 "nbformat": 4,
 "nbformat_minor": 5
}
