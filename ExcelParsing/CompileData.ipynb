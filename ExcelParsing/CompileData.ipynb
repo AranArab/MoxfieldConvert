{
 "cells": [
  {
   "cell_type": "code",
   "execution_count": 4,
   "id": "ab75dd81",
   "metadata": {},
   "outputs": [],
   "source": [
    "import os\n",
    "import shutil\n",
    "import pandas as pd\n",
    "from datetime import datetime"
   ]
  },
  {
   "cell_type": "code",
   "execution_count": 6,
   "id": "4e8758d1",
   "metadata": {},
   "outputs": [
    {
     "name": "stdout",
     "output_type": "stream",
     "text": [
      "Combined data written to: Data2.0/Cheap/All_Data.csv\n",
      "Deleted: Moxfield-Blue_2025-06-10.csv\n",
      "Deleted: Moxfield-Black_2025-06-10.csv\n",
      "Deleted: Moxfield-White_2025-06-10.csv\n",
      "Combined data written to: Data2.0/Expensive/All_Data.csv\n",
      "Deleted: Moxfield-Blue_2025-06-10.csv\n",
      "Deleted: Moxfield-Black_2025-06-10.csv\n",
      "Deleted: Moxfield-White_2025-06-10.csv\n"
     ]
    }
   ],
   "source": [
    "# Define folders\n",
    "cheap_folder = os.path.join('Data2.0', 'Cheap')\n",
    "expensive_folder = os.path.join('Data2.0', 'Expensive')\n",
    "input_folder = 'Data1.0'\n",
    "completed_folder = 'Completed_Data'\n",
    "today_str = datetime.today().strftime('%Y-%m-%d')\n",
    "\n",
    "# Ensure necessary folders exist\n",
    "os.makedirs(completed_folder, exist_ok=True)\n",
    "\n",
    "def combine_csvs_and_cleanup(source_folder):\n",
    "    combined_df = pd.DataFrame()\n",
    "    file_list = [f for f in os.listdir(source_folder) if f.lower().endswith('.csv') and f != 'All_Data.csv']\n",
    "    \n",
    "    for file in file_list:\n",
    "        file_path = os.path.join(source_folder, file)\n",
    "        try:\n",
    "            df = pd.read_csv(file_path)\n",
    "            combined_df = pd.concat([combined_df, df], ignore_index=True)\n",
    "        except Exception as e:\n",
    "            print(f\"Error reading {file_path}: {e}\")\n",
    "\n",
    "    if not combined_df.empty:\n",
    "        output_path = os.path.join(source_folder, 'All_Data.csv')\n",
    "        combined_df.to_csv(output_path, index=False)\n",
    "        print(f\"Combined data written to: {output_path}\")\n",
    "\n",
    "        # Delete all other CSVs except All_Data.csv\n",
    "        for file in file_list:\n",
    "            try:\n",
    "                os.remove(os.path.join(source_folder, file))\n",
    "                print(f\"Deleted: {file}\")\n",
    "            except Exception as e:\n",
    "                print(f\"Failed to delete {file}: {e}\")\n",
    "    else:\n",
    "        print(f\"No data to combine in {source_folder}. No 'All_Data.csv' written.\")\n",
    "\n",
    "# Combine and clean Cheap and Expensive folders\n",
    "combine_csvs_and_cleanup(cheap_folder)\n",
    "combine_csvs_and_cleanup(expensive_folder)\n",
    "\n",
    "# Move and rename files from Data1.0 to Completed_Data\n",
    "for file in os.listdir(input_folder):\n",
    "    if file.lower().endswith('.csv'):\n",
    "        original_path = os.path.join(input_folder, file)\n",
    "        new_filename = f\"{today_str}_{file}\"\n",
    "        destination_path = os.path.join(completed_folder, new_filename)\n",
    "        try:\n",
    "            shutil.move(original_path, destination_path)\n",
    "            print(f\"Moved and renamed: {file} → {new_filename}\")\n",
    "        except Exception as e:\n",
    "            print(f\"Failed to move {file}: {e}\")\n"
   ]
  },
  {
   "cell_type": "code",
   "execution_count": null,
   "id": "d09d2383",
   "metadata": {},
   "outputs": [],
   "source": []
  }
 ],
 "metadata": {
  "kernelspec": {
   "display_name": "Python 3",
   "language": "python",
   "name": "python3"
  },
  "language_info": {
   "codemirror_mode": {
    "name": "ipython",
    "version": 3
   },
   "file_extension": ".py",
   "mimetype": "text/x-python",
   "name": "python",
   "nbconvert_exporter": "python",
   "pygments_lexer": "ipython3",
   "version": "3.11.5"
  }
 },
 "nbformat": 4,
 "nbformat_minor": 5
}
