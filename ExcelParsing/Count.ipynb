{
 "cells": [
  {
   "cell_type": "code",
   "execution_count": 2,
   "id": "e62b2670",
   "metadata": {},
   "outputs": [
    {
     "name": "stdout",
     "output_type": "stream",
     "text": [
      "\n",
      "🟩 Names in Moxfield but not in ExcelParsing (0):\n",
      "\n",
      "🟥 Names in ExcelParsing but not in Moxfield (1):\n",
      " - Thirst for Knowledge\n"
     ]
    }
   ],
   "source": [
    "import os\n",
    "import pandas as pd\n",
    "\n",
    "# Define directories\n",
    "moxfield_folder = 'Completed_Parsing/moxfield_data'\n",
    "excel_folder = 'Completed_Data'\n",
    "\n",
    "# Helper function to extract unique names from all CSVs in a folder\n",
    "def extract_names(folder):\n",
    "    names_set = set()\n",
    "    for file in os.listdir(folder):\n",
    "        if file.lower().endswith('.csv'):\n",
    "            file_path = os.path.join(folder, file)\n",
    "            try:\n",
    "                df = pd.read_csv(file_path)\n",
    "                if 'Name' in df.columns:\n",
    "                    names = df['Name'].dropna().astype(str).str.strip()\n",
    "                    names_set.update(names)\n",
    "                else:\n",
    "                    print(f\"'Name' column missing in {file}\")\n",
    "            except Exception as e:\n",
    "                print(f\"Failed to read {file_path}: {e}\")\n",
    "    return names_set\n",
    "\n",
    "# Extract names\n",
    "moxfield_names = extract_names(moxfield_folder)\n",
    "excel_names = extract_names(excel_folder)\n",
    "\n",
    "# Find differences\n",
    "in_moxfield_not_excel = moxfield_names - excel_names\n",
    "in_excel_not_moxfield = excel_names - moxfield_names\n",
    "\n",
    "# Output results\n",
    "print(f\"\\n🟩 Names in Moxfield but not in ExcelParsing ({len(in_moxfield_not_excel)}):\")\n",
    "for name in sorted(in_moxfield_not_excel):\n",
    "    print(f\" - {name}\")\n",
    "\n",
    "print(f\"\\n🟥 Names in ExcelParsing but not in Moxfield ({len(in_excel_not_moxfield)}):\")\n",
    "for name in sorted(in_excel_not_moxfield):\n",
    "    print(f\" - {name}\")\n"
   ]
  },
  {
   "cell_type": "code",
   "execution_count": null,
   "id": "bf59946e",
   "metadata": {},
   "outputs": [],
   "source": []
  }
 ],
 "metadata": {
  "kernelspec": {
   "display_name": "Python 3",
   "language": "python",
   "name": "python3"
  },
  "language_info": {
   "codemirror_mode": {
    "name": "ipython",
    "version": 3
   },
   "file_extension": ".py",
   "mimetype": "text/x-python",
   "name": "python",
   "nbconvert_exporter": "python",
   "pygments_lexer": "ipython3",
   "version": "3.11.5"
  }
 },
 "nbformat": 4,
 "nbformat_minor": 5
}
